{
 "cells": [
  {
   "cell_type": "markdown",
   "metadata": {},
   "source": [
    "# Python - Numpy"
   ]
  },
  {
   "cell_type": "markdown",
   "metadata": {},
   "source": [
    "## 1. ndarray生成"
   ]
  },
  {
   "cell_type": "code",
   "execution_count": 2,
   "metadata": {
    "collapsed": true
   },
   "outputs": [],
   "source": [
    "import numpy as np"
   ]
  },
  {
   "cell_type": "code",
   "execution_count": null,
   "metadata": {
    "collapsed": true
   },
   "outputs": [],
   "source": [
    "#一般\n",
    "a = np.array([1,2,3])\n",
    "a = np.array([[1,2,3],[4,5,6]])\n",
    "a = np.array(range(10))                 #array([0, 1, 2, 3, 4, 5, 6, 7, 8, 9])\n",
    "\n",
    "#随机数\n",
    "a = np.random.random(shape)\n",
    "a = np.random.randint(low,high,size)    #(low(包含),high(不包含),size)\n",
    "a = np.random.normal(mean,scale,shape)\n",
    "\n",
    "#区间数\n",
    "a = np.arange(10)                 #相当于a = np.array(range(10))\n",
    "a = np.arange(0,10,2)                   # (start,stop(不包括),step)    array([ 0,  2,  4,  6,  8])\n",
    "a = np.linspace(10,25,5)                # (start,stop(包括),numbers)   array([ 10.,  15.,  20.,  25.])\n",
    "\n",
    "#特殊\n",
    "a = np.zeros(shape)                     #(a,b,c)\n",
    "a = np.ones(shape)\n",
    "a = np.empty(shape)\n",
    "a = np.full(shape,fill_value)           #np.full((3,3,3),8)所有值都一样\n",
    "a = np.eye(5)\n",
    "a = np.identity(5)                      #都是单位矩阵"
   ]
  },
  {
   "cell_type": "markdown",
   "metadata": {},
   "source": [
    "- 特别地，对角矩阵的变化"
   ]
  },
  {
   "cell_type": "code",
   "execution_count": null,
   "metadata": {
    "collapsed": true
   },
   "outputs": [],
   "source": [
    "i = np.eye(5)\n",
    "i1 = np.eye(5,7)                       #只有对角线为1\n",
    "i2 = np.eye(5,7,k=2)                   #k为正，对角线往右上移动；k为负，对角线往左下移动"
   ]
  },
  {
   "cell_type": "markdown",
   "metadata": {},
   "source": [
    "## 2. 四个属性"
   ]
  },
  {
   "cell_type": "code",
   "execution_count": null,
   "metadata": {
    "collapsed": true
   },
   "outputs": [],
   "source": [
    "np.random.seed(0);a = np.random.randint(2,20,(3,4,5))\n",
    "a.ndim           #3\n",
    "a.shape          #(3, 4, 5)\n",
    "a.size           #60\n",
    "a.dtype          #dtype('int32')\n",
    "\n",
    "len(a)           #层数3\n",
    "len(a[0])        #每层的行数4\n",
    "len(a[0][0])     #每层的列数5\n",
    "                 #a.itemsize每个数占多少byte; a.nbytes数组占多大内存"
   ]
  },
  {
   "cell_type": "markdown",
   "metadata": {},
   "source": [
    "- 改变array的基本数据类型"
   ]
  },
  {
   "cell_type": "code",
   "execution_count": null,
   "metadata": {
    "collapsed": true
   },
   "outputs": [],
   "source": [
    "a = np.random.randint(1,10,(3,4)) #改出来结果是不对的\n",
    "a.dtype = float                   \n",
    "\n",
    "a = a.astype(np.float)            #成功"
   ]
  },
  {
   "cell_type": "markdown",
   "metadata": {},
   "source": [
    "## 3. 索引"
   ]
  },
  {
   "cell_type": "code",
   "execution_count": 8,
   "metadata": {},
   "outputs": [
    {
     "data": {
      "text/plain": [
       "array([[ 1,  2,  3,  4],\n",
       "       [ 5,  6,  7,  8],\n",
       "       [ 9, 10, 11, 12]])"
      ]
     },
     "execution_count": 8,
     "metadata": {},
     "output_type": "execute_result"
    }
   ],
   "source": [
    "a = np.array([[1,2,3,4],[5,6,7,8],[9,10,11,12]]);a"
   ]
  },
  {
   "cell_type": "code",
   "execution_count": 14,
   "metadata": {},
   "outputs": [
    {
     "data": {
      "text/plain": [
       "6"
      ]
     },
     "execution_count": 14,
     "metadata": {},
     "output_type": "execute_result"
    }
   ],
   "source": [
    "a[:2,1:2]             #array([[2],\n",
    "                      #      [6]])\n",
    "a[[0,1,2],[1,2,3]]    #array([ 2,  7, 12])对应位置行列\n",
    "a[:,2][::-1]          #array([11,  7,  3])\n",
    "\n",
    "#布尔索引\n",
    "a % 2 == 0 \n",
    "a[a % 2 == 0 ]        #array([ 2,  4,  6,  8, 10, 12])\n",
    "len(a[a % 2 == 0 ] )  # 6 矩阵中有几个符合要求的数"
   ]
  },
  {
   "cell_type": "markdown",
   "metadata": {},
   "source": [
    "- 用切片对原矩阵进行修改"
   ]
  },
  {
   "cell_type": "code",
   "execution_count": 9,
   "metadata": {},
   "outputs": [
    {
     "data": {
      "text/plain": [
       "array([[ 1,  2,  3,  4],\n",
       "       [ 5,  6,  7,  8],\n",
       "       [ 9,  0, 11, 12]])"
      ]
     },
     "execution_count": 9,
     "metadata": {},
     "output_type": "execute_result"
    }
   ],
   "source": [
    "# 对切片进行修改会改变原矩阵\n",
    "sub_a = a[1:,:2]\n",
    "sub_a[1,1]=0\n",
    "a"
   ]
  },
  {
   "cell_type": "code",
   "execution_count": 10,
   "metadata": {},
   "outputs": [
    {
     "data": {
      "text/plain": [
       "array([[ 1,  2,  3,  4],\n",
       "       [ 5,  6,  7,  8],\n",
       "       [ 9, 10, 11, 12]])"
      ]
     },
     "execution_count": 10,
     "metadata": {},
     "output_type": "execute_result"
    }
   ],
   "source": [
    "# 这样不会改变原矩阵\n",
    "a = np.array([[1,2,3,4],[5,6,7,8],[9,10,11,12]]);a\n",
    "sub_a = a[1:,:2]\n",
    "sub_a = np.ones((2,2))\n",
    "a"
   ]
  },
  {
   "cell_type": "code",
   "execution_count": 11,
   "metadata": {},
   "outputs": [
    {
     "data": {
      "text/plain": [
       "array([[ 1,  2,  3,  4],\n",
       "       [ 5,  6,  7,  8],\n",
       "       [ 9, 10, 11, 12]])"
      ]
     },
     "execution_count": 11,
     "metadata": {},
     "output_type": "execute_result"
    }
   ],
   "source": [
    "# 也可以像list一样对使用copy进行不更改原list的复制\n",
    "sub_a = a[1:,:2].copy()\n",
    "sub_a = sub_a-10\n",
    "a"
   ]
  },
  {
   "cell_type": "markdown",
   "metadata": {},
   "source": [
    "## 4. array的变形、拼接、分裂"
   ]
  },
  {
   "cell_type": "markdown",
   "metadata": {},
   "source": [
    "- array.reshape()\n",
    "- array.concatenate()\n",
    "- array.vstack()  \n",
    "- array.hstack()"
   ]
  },
  {
   "cell_type": "code",
   "execution_count": 31,
   "metadata": {},
   "outputs": [
    {
     "data": {
      "text/plain": [
       "array([[ 0,  1,  2,  3,  4,  5,  6,  7,  8,  9],\n",
       "       [10, 11, 12, 13, 14, 15, 16, 17, 18, 19]])"
      ]
     },
     "execution_count": 31,
     "metadata": {},
     "output_type": "execute_result"
    }
   ],
   "source": [
    "#变形\n",
    "a.reshape((2,6))                     #array([[ 1,  2,  3,  4,  5,  6],\n",
    "                                            #[ 7,  8,  9, 10, 11, 12]])\n",
    "a.reshape((2,6)).T                #转置\n",
    "    \n",
    "#拼接\n",
    "a1 = np.array(range(0,10))\n",
    "a2 = np.array(range(10,20))\n",
    "a3 = np.random.normal(0,1,(2,5))\n",
    "ac = np.concatenate([a1.reshape(2,5),a2.reshape(2,5)])                       #默认：增加样本数\n",
    "ac2 = np.concatenate([a1.reshape(10,1),a3.reshape(10,1)],axis=1);ac2         # axis=1 增加变量数\n",
    "\n",
    "ac3 = np.vstack([a1,a2]);ac3        #增加样本数\n",
    "#ac4 = np.hstack([a1,a2]);ac4       #增加变量数"
   ]
  },
  {
   "cell_type": "markdown",
   "metadata": {},
   "source": [
    "- array.split()\n",
    "- array.vsplit()\n",
    "- array.hsplit()"
   ]
  },
  {
   "cell_type": "code",
   "execution_count": 45,
   "metadata": {},
   "outputs": [
    {
     "name": "stdout",
     "output_type": "stream",
     "text": [
      "[0 1 2 3 4 5 6 7 8 9]\n",
      "[array([0, 1]), array([2]), array([3, 4, 5, 6, 7, 8, 9])]\n"
     ]
    }
   ],
   "source": [
    "print(a1)\n",
    "a_s = np.split(a1,[2,3]);print(a_s)"
   ]
  },
  {
   "cell_type": "code",
   "execution_count": 44,
   "metadata": {},
   "outputs": [
    {
     "name": "stdout",
     "output_type": "stream",
     "text": [
      "[[0 1]\n",
      " [2 3]\n",
      " [4 5]\n",
      " [6 7]\n",
      " [8 9]]\n",
      "[array([[0, 1],\n",
      "       [2, 3]]), array([[4, 5]]), array([[6, 7],\n",
      "       [8, 9]])]\n"
     ]
    }
   ],
   "source": [
    "a_s2 = np.vsplit(a1.reshape((5,2)),[2,3]);print(a1.reshape((5,2)));print(a_s2)"
   ]
  },
  {
   "cell_type": "code",
   "execution_count": 47,
   "metadata": {},
   "outputs": [
    {
     "name": "stdout",
     "output_type": "stream",
     "text": [
      "[[0 1 2 3 4]\n",
      " [5 6 7 8 9]]\n",
      "[array([[0, 1],\n",
      "       [5, 6]]), array([[2],\n",
      "       [7]]), array([[3, 4],\n",
      "       [8, 9]])]\n"
     ]
    }
   ],
   "source": [
    "a_s3 = np.hsplit(a1.reshape((2,5)),[2,3]);print(a1.reshape((2,5)));print(a_s3)"
   ]
  },
  {
   "cell_type": "code",
   "execution_count": 54,
   "metadata": {},
   "outputs": [
    {
     "data": {
      "text/plain": [
       "array([[ 0,  4,  8],\n",
       "       [ 1,  5,  9],\n",
       "       [ 2,  6, 10],\n",
       "       [ 3,  7, 11]])"
      ]
     },
     "execution_count": 54,
     "metadata": {},
     "output_type": "execute_result"
    }
   ],
   "source": [
    "a = np.array(range(0,12))\n",
    "a.reshape((3,4)).T"
   ]
  },
  {
   "cell_type": "markdown",
   "metadata": {},
   "source": [
    "## 函数"
   ]
  },
  {
   "cell_type": "markdown",
   "metadata": {},
   "source": [
    "- 运算时间计算"
   ]
  },
  {
   "cell_type": "code",
   "execution_count": 62,
   "metadata": {},
   "outputs": [],
   "source": [
    "ar1 = np.arange(1000000)\n",
    "l_1 = list(range(1000000))"
   ]
  },
  {
   "cell_type": "code",
   "execution_count": 66,
   "metadata": {},
   "outputs": [
    {
     "name": "stdout",
     "output_type": "stream",
     "text": [
      "Wall time: 12 ms\n"
     ]
    }
   ],
   "source": [
    "%time ar1 = ar1 * 2"
   ]
  },
  {
   "cell_type": "code",
   "execution_count": 67,
   "metadata": {},
   "outputs": [
    {
     "name": "stdout",
     "output_type": "stream",
     "text": [
      "Wall time: 760 ms\n"
     ]
    }
   ],
   "source": [
    "%time l_1 = [i*2 for i in l_1]"
   ]
  },
  {
   "cell_type": "markdown",
   "metadata": {},
   "source": [
    "- map函数"
   ]
  },
  {
   "cell_type": "code",
   "execution_count": 72,
   "metadata": {},
   "outputs": [
    {
     "name": "stdout",
     "output_type": "stream",
     "text": [
      "Wall time: 0 ns\n"
     ]
    },
    {
     "data": {
      "text/plain": [
       "<map at 0xcba9819e10>"
      ]
     },
     "execution_count": 72,
     "metadata": {},
     "output_type": "execute_result"
    }
   ],
   "source": [
    "%time l_1 =map(lambda x:x*2,l_1)       #对列表里的每个元素，进行函数运算\n",
    "l_1"
   ]
  },
  {
   "cell_type": "markdown",
   "metadata": {},
   "source": [
    "- reduce函数"
   ]
  },
  {
   "cell_type": "code",
   "execution_count": null,
   "metadata": {},
   "outputs": [],
   "source": [
    "from functools import reduce\n",
    "l1 = list(range(101))\n",
    "l2 = int(reduce(lambda x,y:x+y,11))\n",
    "print(l2)#运行结果有点问题"
   ]
  },
  {
   "cell_type": "markdown",
   "metadata": {},
   "source": [
    "- 矩阵的运算"
   ]
  },
  {
   "cell_type": "code",
   "execution_count": null,
   "metadata": {
    "collapsed": true
   },
   "outputs": [],
   "source": [
    "ar = np.array(range(1,13)).reshape((3,4))\n",
    "ar*2\n",
    "ar+2.5\n",
    "-ar\n",
    "np.abs(-ar)\n",
    "np.sin(ar)#sin cos tan arcsin\n",
    "np.log(ar) #log,log2,log10,exp,exp2,power,\n",
    "\n",
    "x = [0, 0.001, 0.01, 0.1]\n",
    "print(\"exp(x) - 1 =\", np.expm1(x))\n",
    "print(\"log(1 + x) =\", np.log1p(x))\n",
    "\n",
    "ar_c2 * ar_c2                       #两矩阵相同位置元素相乘\n",
    "ar_c2.dot(ar_c2)                    #矩阵乘法"
   ]
  },
  {
   "cell_type": "markdown",
   "metadata": {},
   "source": [
    "## 6. 排序"
   ]
  },
  {
   "cell_type": "markdown",
   "metadata": {},
   "source": [
    "- 一维array"
   ]
  },
  {
   "cell_type": "code",
   "execution_count": 95,
   "metadata": {},
   "outputs": [
    {
     "data": {
      "text/plain": [
       "array([ 0,  3, 16, 16,  9,  7, 12,  6, 12, 14, 11, 13, 17,  7, 18, 16, 10,\n",
       "       11,  4, 18])"
      ]
     },
     "execution_count": 95,
     "metadata": {},
     "output_type": "execute_result"
    }
   ],
   "source": [
    "ar = np.random.randint(0,20,20)\n",
    "#升序\n",
    "ar.sort();ar                      #ar已经变成排好序的了\n",
    "#降序\n",
    "ar=np.sort(ar)[::-1]              "
   ]
  },
  {
   "cell_type": "code",
   "execution_count": null,
   "metadata": {
    "collapsed": true
   },
   "outputs": [],
   "source": [
    "#list的排序\n",
    "#对于list.sort()有一个参数叫key,而np.sort()没有参数key,只能用索引降序排列\n",
    "l1.sort(key = lambda x:x%3)       #对l1中元素作取余运算后的大小进行排序"
   ]
  },
  {
   "cell_type": "code",
   "execution_count": null,
   "metadata": {},
   "outputs": [],
   "source": [
    "#取索引\n",
    "np.argsort(ar)                    "
   ]
  },
  {
   "cell_type": "markdown",
   "metadata": {},
   "source": [
    "- 矩阵排序"
   ]
  },
  {
   "cell_type": "code",
   "execution_count": null,
   "metadata": {},
   "outputs": [],
   "source": [
    "mat = np.random.randint(0,20,20).reshape((4,5))\n",
    "np.sort(mat,axis = 0)            #每一列内部进行排序\n",
    "#np.sort(mat,axis = 1)           #每一行内部进行排序"
   ]
  }
 ],
 "metadata": {
  "kernelspec": {
   "display_name": "Python 3",
   "language": "python",
   "name": "python3"
  },
  "language_info": {
   "codemirror_mode": {
    "name": "ipython",
    "version": 3
   },
   "file_extension": ".py",
   "mimetype": "text/x-python",
   "name": "python",
   "nbconvert_exporter": "python",
   "pygments_lexer": "ipython3",
   "version": "3.6.1"
  }
 },
 "nbformat": 4,
 "nbformat_minor": 2
}
