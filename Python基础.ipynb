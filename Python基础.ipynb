{
 "cells": [
  {
   "cell_type": "markdown",
   "metadata": {},
   "source": [
    "# 金融工具箱-Python基础"
   ]
  },
  {
   "cell_type": "markdown",
   "metadata": {},
   "source": [
    "---\n",
    "小技巧：\n",
    "\n",
    "- 快捷键：Esc->m 可以进行markdown编辑\n",
    "         之后可以再按Esc->y进入代码编辑状态\n",
    "         enter进入编辑状态\n",
    "- 在下面添加一个新的cell\n",
    "- 多行注释：ctrl+/\n",
    "- 转义字符：/n (换行) /t (tab键)\n",
    "---"
   ]
  },
  {
   "cell_type": "markdown",
   "metadata": {},
   "source": [
    "## 1. 基本数据类型"
   ]
  },
  {
   "cell_type": "markdown",
   "metadata": {},
   "source": [
    "- 整数 浮点数 字符串 布尔型"
   ]
  },
  {
   "cell_type": "code",
   "execution_count": null,
   "metadata": {
    "collapsed": true
   },
   "outputs": [],
   "source": [
    "[10,10.0,1e1,'10',True,False] #1e1科学计数法，可以是浮点数或整数 [10, 10.0, 10.0, '10', True, False]"
   ]
  },
  {
   "cell_type": "markdown",
   "metadata": {},
   "source": [
    "- 强制转换（向下取整）"
   ]
  },
  {
   "cell_type": "code",
   "execution_count": null,
   "metadata": {
    "collapsed": true
   },
   "outputs": [],
   "source": [
    "int(9.9)    #9"
   ]
  },
  {
   "cell_type": "markdown",
   "metadata": {},
   "source": [
    "- 字符串"
   ]
  },
  {
   "cell_type": "code",
   "execution_count": null,
   "metadata": {
    "collapsed": true
   },
   "outputs": [],
   "source": [
    "A=\"abc\";B=\"efg\"\n",
    "print(A+B)        #abcefg\n",
    "len(A)            #3\n",
    "print(A*2)        #abcabc"
   ]
  },
  {
   "cell_type": "markdown",
   "metadata": {},
   "source": [
    "## 2. 控制流\n",
    "- if-else\n",
    "- for \n",
    "- while"
   ]
  },
  {
   "cell_type": "markdown",
   "metadata": {},
   "source": [
    "- continue结束本轮循环；break结束整个循环"
   ]
  },
  {
   "cell_type": "code",
   "execution_count": null,
   "metadata": {
    "collapsed": true
   },
   "outputs": [],
   "source": [
    "grade=95\n",
    "if grade > 90: print(\"A\")\n",
    "if grade > 80: print(\"B\")\n",
    "if grade > 70: print(\"C\")\n",
    "if grade > 60: print(\"D\")\n",
    "else: print(\"不及格\")     #ABCD"
   ]
  },
  {
   "cell_type": "code",
   "execution_count": null,
   "metadata": {
    "collapsed": true
   },
   "outputs": [],
   "source": [
    "a=0\n",
    "for i in range(10):\n",
    "    print(i,end=' ') #0 1 2 3 4 5 6 7 8 9"
   ]
  },
  {
   "cell_type": "code",
   "execution_count": null,
   "metadata": {
    "collapsed": true
   },
   "outputs": [],
   "source": [
    "i=0\n",
    "while i<10:\n",
    "    print(i,end=' ')\n",
    "    i+=1             # 0 1 2 3 4 5 6 7 8 9"
   ]
  },
  {
   "cell_type": "markdown",
   "metadata": {},
   "source": [
    "## 2. 复杂数据结构"
   ]
  },
  {
   "cell_type": "markdown",
   "metadata": {},
   "source": [
    "### (1) list"
   ]
  },
  {
   "cell_type": "code",
   "execution_count": null,
   "metadata": {
    "collapsed": true
   },
   "outputs": [],
   "source": [
    "l1 = [10,11,12,13,14,15,16]\n",
    "#增\n",
    "l1.append(6)     #l1 = [10,11,12,13,14,15,16,6]\n",
    "#删\n",
    "l1.pop(0)        #l1 = [1, 2, 3, 4, 6]            pop(index)\n",
    "l1.remove(6)     #l1 = [1, 2, 3, 4, 5]            remove(元素)\n",
    "#改\n",
    "l2 = [1,2,3,4]\n",
    "l2[2] = 8        #l2 = [1, 2, 8, 4]\n",
    "#查\n",
    "print(l2[:1])    #[1,2]\n",
    "print(1:6:2)     #[1,3,5]"
   ]
  },
  {
   "cell_type": "markdown",
   "metadata": {},
   "source": [
    "- 深度拷贝"
   ]
  },
  {
   "cell_type": "code",
   "execution_count": null,
   "metadata": {
    "collapsed": true
   },
   "outputs": [],
   "source": [
    "l3 = ['a',1,5,'b',True]\n",
    "l4 = l3\n",
    "l5 = l3.copy()         #深度拷贝，改变l3时，l4不会跟着变\n",
    "l3[0] = 'aaa'\n",
    "l4                     #['aaa', 1, 5, 'b', True]\n",
    "l5                     #['a',1,5,'b',True] \n",
    "\n",
    "#另外两种拷贝列表(而不随原列表变化而变化)的方法\n",
    "l_1 = [1,2,3,4]\n",
    "l_2 = []\n",
    "l_3 = []\n",
    "for i in l_1:\n",
    "    l_2.append(i)\n",
    "for l_index in range(len(l_1)):\n",
    "    l_3.append(l_1[l_index])"
   ]
  },
  {
   "cell_type": "markdown",
   "metadata": {},
   "source": [
    "- 循环列表的两种方式"
   ]
  },
  {
   "cell_type": "code",
   "execution_count": null,
   "metadata": {
    "collapsed": true
   },
   "outputs": [],
   "source": [
    "for i in l_1:\n",
    "    print(i)\n",
    "for li_index in range(len(l_1)):\n",
    "    print(l_1[li_index])          #c语言爱好者"
   ]
  },
  {
   "cell_type": "markdown",
   "metadata": {},
   "source": [
    "- 列表的相关函数"
   ]
  },
  {
   "cell_type": "code",
   "execution_count": null,
   "metadata": {},
   "outputs": [],
   "source": [
    "m = max([1,2,3,4])           #m=4"
   ]
  },
  {
   "cell_type": "code",
   "execution_count": null,
   "metadata": {},
   "outputs": [],
   "source": [
    "import random\n",
    "l_1 = [1,2,3,4,5,6]\n",
    "random.shuffle(l_1)\n",
    "print(l_1)                   #[2, 6, 1, 4, 5, 3]"
   ]
  },
  {
   "cell_type": "markdown",
   "metadata": {},
   "source": [
    "### (2) dict"
   ]
  },
  {
   "cell_type": "code",
   "execution_count": null,
   "metadata": {
    "collapsed": true
   },
   "outputs": [],
   "source": [
    "d1 = {'a':1,2:'b','c':'第三个','c':3}    #d1 = {'a': 1, 2: 'b', 'c': 3}                      "
   ]
  },
  {
   "cell_type": "code",
   "execution_count": null,
   "metadata": {
    "collapsed": true
   },
   "outputs": [],
   "source": [
    "#增 改\n",
    "d1['d'] = 8     #d1 = {'a': 1, 2: 'b', 'c': 3, 'd': 8}\n",
    "#删\n",
    "d1.pop('c')     #d1 = {'a': 1, 2: 'b', 'd': 8}            #pop(key)                            \n",
    "d1.remove(1)    #'dict' object has no attribute 'remove'"
   ]
  },
  {
   "cell_type": "code",
   "execution_count": null,
   "metadata": {
    "collapsed": true
   },
   "outputs": [],
   "source": [
    "#查\n",
    "d1[2]                   #'b'\n",
    "\n",
    "print('a' in d1)        #True   key in dict\n",
    "print('2' in d1)        #False\n",
    "print(2 in d1)          #True\n",
    "\n",
    "print(d1.get(2))        #b      get(key)\n",
    "print(d1.get('2'))      #None"
   ]
  },
  {
   "cell_type": "markdown",
   "metadata": {},
   "source": [
    "- 遍历字典"
   ]
  },
  {
   "cell_type": "code",
   "execution_count": null,
   "metadata": {
    "collapsed": true
   },
   "outputs": [],
   "source": [
    "for key in d1:\n",
    "    print(key,' ',d1[key])\n",
    "for k,v in d1.items():\n",
    "    print(k,' ',v)                     #a   1\n",
    "                                       #2   b\n",
    "                                       #d   8"
   ]
  },
  {
   "cell_type": "markdown",
   "metadata": {},
   "source": [
    "### (3) tuple set"
   ]
  },
  {
   "cell_type": "code",
   "execution_count": null,
   "metadata": {
    "collapsed": true
   },
   "outputs": [],
   "source": [
    "tup1 = (1,2,3,4,4,5,5)\n",
    "set1 = {1,2,3,4,4,5,5}\n",
    "print(tup1)            #(1, 2, 3, 4, 4, 5, 5)\n",
    "print(set1)            #{1, 2, 3, 4, 5}"
   ]
  },
  {
   "cell_type": "markdown",
   "metadata": {},
   "source": [
    "- 集合不能查"
   ]
  },
  {
   "cell_type": "code",
   "execution_count": null,
   "metadata": {
    "collapsed": true
   },
   "outputs": [],
   "source": [
    "print(tup1[1:3])       #(2, 3)\n",
    "print(set1[1:3])       #'set' object is not subscriptable\n",
    "set1.remove(2)         #删除集合元素：remove(元素)   st1 = {1, 3, 4, 5} "
   ]
  },
  {
   "cell_type": "markdown",
   "metadata": {},
   "source": [
    "- tuple里的元素不可修改"
   ]
  },
  {
   "cell_type": "code",
   "execution_count": null,
   "metadata": {
    "collapsed": true
   },
   "outputs": [],
   "source": [
    "tup1[0] = 'a'         #'tuple' object does not support item assignment"
   ]
  },
  {
   "cell_type": "markdown",
   "metadata": {},
   "source": [
    "- set去重功能"
   ]
  },
  {
   "cell_type": "code",
   "execution_count": null,
   "metadata": {
    "collapsed": true
   },
   "outputs": [],
   "source": [
    "li_1 = []\n",
    "for i in range(15):\n",
    "    li_1.append(i%10)          #li_1 = [0, 1, 2, 3, 4, 5, 6, 7, 8, 9, 0, 1, 2, 3, 4]\n",
    "s_l = set(li_1)\n",
    "newli_1 = list(s_l)\n",
    "print(newli_1)                 #[0, 1, 2, 3, 4, 5, 6, 7, 8, 9]"
   ]
  },
  {
   "cell_type": "markdown",
   "metadata": {},
   "source": [
    "- json的结构化表示"
   ]
  },
  {
   "cell_type": "code",
   "execution_count": 91,
   "metadata": {},
   "outputs": [
    {
     "name": "stdout",
     "output_type": "stream",
     "text": [
      "[\n",
      "    [\n",
      "        \"李磊\",\n",
      "        25,\n",
      "        [\n",
      "            {\n",
      "                \"age\":\"23\",\n",
      "                \"name\":\"韩梅梅\"\n",
      "            }\n",
      "        ]\n",
      "    ],\n",
      "    [\n",
      "        \"王二弹\",\n",
      "        21,\n",
      "        []\n",
      "    ],\n",
      "    [\n",
      "        \"朱一旦\",\n",
      "        35,\n",
      "        [\n",
      "            {\n",
      "                \"age\":\"23\",\n",
      "                \"name\":\"赵大\"\n",
      "            },\n",
      "            {\n",
      "                \"age\":21,\n",
      "                \"ex\":[\n",
      "                    \"周五\",\n",
      "                    \"吴六\",\n",
      "                    \"郑七\"\n",
      "                ],\n",
      "                \"name\":\"钱二\"\n",
      "            }\n",
      "        ]\n",
      "    ]\n",
      "]\n"
     ]
    }
   ],
   "source": [
    "l1 = [['李磊',25,[{'name':'韩梅梅','age':'23'}]],['王二弹',21,[]],['朱一旦',35,[{'name':'赵大','age':'23'},{'name':'钱二','age':21,'ex':['周五','吴六','郑七']}]]]\n",
    "import json\n",
    "js = json.dumps(l1,sort_keys=True,indent=4,separators=(',',':'),ensure_ascii=False)\n",
    "print(js)"
   ]
  },
  {
   "cell_type": "code",
   "execution_count": null,
   "metadata": {
    "collapsed": true
   },
   "outputs": [],
   "source": [
    "# this_line = {}要放在循环里面，比较一下下面两种的输出结果有什么区别\n",
    "all_res = []\n",
    "for ii in range(10):\n",
    "    this_line = {}\n",
    "    this_line['num'] = li\n",
    "    this_line['奇偶'] = 0\n",
    "    if ii % 2 == 0:\n",
    "        this_line['奇偶'] = 1\n",
    "    all_res.append(this_line)\n",
    "js = json.dumps(all_res,sort_keys=True,indent=4,separators=(',',':'),ensure_ascii=False)\n",
    "print(js)\n",
    "\n",
    "all_res = []\n",
    "this_line = {}\n",
    "for ii in range(10):\n",
    "    this_line['num'] = li\n",
    "    this_line['奇偶'] = 0\n",
    "    if ii % 2 == 0:\n",
    "        this_line['奇偶'] = 1\n",
    "    all_res.append(this_line)\n",
    "js = json.dumps(all_res,sort_keys=True,indent=4,separators=(',',':'),ensure_ascii=False)\n",
    "print(js)"
   ]
  },
  {
   "cell_type": "code",
   "execution_count": 98,
   "metadata": {
    "collapsed": true
   },
   "outputs": [],
   "source": [
    "#在某位置创建名为json_test的json文件，并写入l1\n",
    "with open('D:/jupyter notebook/json_test.json','wb+') as f:\n",
    "    f.write(json.dumps(l1).encode('utf-8'))"
   ]
  },
  {
   "cell_type": "code",
   "execution_count": 101,
   "metadata": {},
   "outputs": [
    {
     "name": "stdout",
     "output_type": "stream",
     "text": [
      "[['李磊', 25, [{'name': '韩梅梅', 'age': '23'}]], ['王二弹', 21, []], ['朱一旦', 35, [{'name': '赵大', 'age': '23'}, {'name': '钱二', 'age': 21, 'ex': ['周五', '吴六', '郑七']}]]]\n"
     ]
    }
   ],
   "source": [
    "#打开已有的json文件并读取\n",
    "l2 = json.load(open('D:/jupyter notebook/json_test.json'))\n",
    "print(l2)"
   ]
  },
  {
   "cell_type": "markdown",
   "metadata": {},
   "source": [
    "## 3. 函数"
   ]
  },
  {
   "cell_type": "markdown",
   "metadata": {},
   "source": [
    "- 递归函数"
   ]
  },
  {
   "cell_type": "code",
   "execution_count": null,
   "metadata": {
    "collapsed": true
   },
   "outputs": [],
   "source": [
    "def fib_r(n):                       #斐波那契数列\n",
    "    if n <= 2:\n",
    "        return 1\n",
    "    return fib_r(n-1) + fib_r(n-2)"
   ]
  },
  {
   "cell_type": "markdown",
   "metadata": {},
   "source": [
    "![执行顺序](image/16.png)"
   ]
  },
  {
   "cell_type": "code",
   "execution_count": null,
   "metadata": {
    "collapsed": true
   },
   "outputs": [],
   "source": []
  }
 ],
 "metadata": {
  "kernelspec": {
   "display_name": "Python 3",
   "language": "python",
   "name": "python3"
  },
  "language_info": {
   "codemirror_mode": {
    "name": "ipython",
    "version": 3
   },
   "file_extension": ".py",
   "mimetype": "text/x-python",
   "name": "python",
   "nbconvert_exporter": "python",
   "pygments_lexer": "ipython3",
   "version": "3.6.1"
  }
 },
 "nbformat": 4,
 "nbformat_minor": 2
}
